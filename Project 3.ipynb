{
 "cells": [
  {
   "cell_type": "code",
   "execution_count": 1,
   "id": "a16d3745-0189-439b-be4c-9058bf20062a",
   "metadata": {},
   "outputs": [],
   "source": [
    "import pandas as pd "
   ]
  },
  {
   "cell_type": "markdown",
   "id": "1b1f5ae9-5316-4e00-ac66-716535499267",
   "metadata": {},
   "source": [
    "# Lets have a look at the  two datasets and decide on which one to use for the analysis"
   ]
  },
  {
   "cell_type": "markdown",
   "id": "5121fabd-f6e5-4bc5-bf9a-8846c4df117d",
   "metadata": {},
   "source": [
    "# `Dataset 1`"
   ]
  },
  {
   "cell_type": "code",
   "execution_count": 2,
   "id": "9778d7dd-6048-46fa-bbac-2e1bed521433",
   "metadata": {},
   "outputs": [
    {
     "data": {
      "text/html": [
       "<div>\n",
       "<style scoped>\n",
       "    .dataframe tbody tr th:only-of-type {\n",
       "        vertical-align: middle;\n",
       "    }\n",
       "\n",
       "    .dataframe tbody tr th {\n",
       "        vertical-align: top;\n",
       "    }\n",
       "\n",
       "    .dataframe thead th {\n",
       "        text-align: right;\n",
       "    }\n",
       "</style>\n",
       "<table border=\"1\" class=\"dataframe\">\n",
       "  <thead>\n",
       "    <tr style=\"text-align: right;\">\n",
       "      <th></th>\n",
       "      <th>Student ID</th>\n",
       "      <th>Well versed with the subject</th>\n",
       "      <th>Explains concepts in an understandable way</th>\n",
       "      <th>Use of presentations</th>\n",
       "      <th>Degree of difficulty of assignments</th>\n",
       "      <th>Solves doubts willingly</th>\n",
       "      <th>Structuring of the course</th>\n",
       "      <th>Provides support for students going above and beyond</th>\n",
       "      <th>Course recommendation based on relevance</th>\n",
       "    </tr>\n",
       "  </thead>\n",
       "  <tbody>\n",
       "    <tr>\n",
       "      <th>996</th>\n",
       "      <td>55</td>\n",
       "      <td>8</td>\n",
       "      <td>7</td>\n",
       "      <td>6</td>\n",
       "      <td>2</td>\n",
       "      <td>5</td>\n",
       "      <td>7</td>\n",
       "      <td>7</td>\n",
       "      <td>9</td>\n",
       "    </tr>\n",
       "    <tr>\n",
       "      <th>997</th>\n",
       "      <td>913</td>\n",
       "      <td>5</td>\n",
       "      <td>5</td>\n",
       "      <td>6</td>\n",
       "      <td>5</td>\n",
       "      <td>6</td>\n",
       "      <td>7</td>\n",
       "      <td>6</td>\n",
       "      <td>1</td>\n",
       "    </tr>\n",
       "    <tr>\n",
       "      <th>998</th>\n",
       "      <td>199</td>\n",
       "      <td>9</td>\n",
       "      <td>5</td>\n",
       "      <td>8</td>\n",
       "      <td>3</td>\n",
       "      <td>8</td>\n",
       "      <td>1</td>\n",
       "      <td>1</td>\n",
       "      <td>2</td>\n",
       "    </tr>\n",
       "    <tr>\n",
       "      <th>999</th>\n",
       "      <td>539</td>\n",
       "      <td>10</td>\n",
       "      <td>2</td>\n",
       "      <td>7</td>\n",
       "      <td>4</td>\n",
       "      <td>3</td>\n",
       "      <td>4</td>\n",
       "      <td>10</td>\n",
       "      <td>1</td>\n",
       "    </tr>\n",
       "    <tr>\n",
       "      <th>1000</th>\n",
       "      <td>759</td>\n",
       "      <td>7</td>\n",
       "      <td>2</td>\n",
       "      <td>4</td>\n",
       "      <td>2</td>\n",
       "      <td>1</td>\n",
       "      <td>5</td>\n",
       "      <td>9</td>\n",
       "      <td>9</td>\n",
       "    </tr>\n",
       "  </tbody>\n",
       "</table>\n",
       "</div>"
      ],
      "text/plain": [
       "      Student ID  Well versed with the subject  \\\n",
       "996           55                             8   \n",
       "997          913                             5   \n",
       "998          199                             9   \n",
       "999          539                            10   \n",
       "1000         759                             7   \n",
       "\n",
       "      Explains concepts in an understandable way  Use of presentations  \\\n",
       "996                                            7                     6   \n",
       "997                                            5                     6   \n",
       "998                                            5                     8   \n",
       "999                                            2                     7   \n",
       "1000                                           2                     4   \n",
       "\n",
       "      Degree of difficulty of assignments  Solves doubts willingly  \\\n",
       "996                                     2                        5   \n",
       "997                                     5                        6   \n",
       "998                                     3                        8   \n",
       "999                                     4                        3   \n",
       "1000                                    2                        1   \n",
       "\n",
       "      Structuring of the course  \\\n",
       "996                           7   \n",
       "997                           7   \n",
       "998                           1   \n",
       "999                           4   \n",
       "1000                          5   \n",
       "\n",
       "      Provides support for students going above and beyond  \\\n",
       "996                                                   7      \n",
       "997                                                   6      \n",
       "998                                                   1      \n",
       "999                                                  10      \n",
       "1000                                                  9      \n",
       "\n",
       "      Course recommendation based on relevance  \n",
       "996                                          9  \n",
       "997                                          1  \n",
       "998                                          2  \n",
       "999                                          1  \n",
       "1000                                         9  "
      ]
     },
     "execution_count": 2,
     "metadata": {},
     "output_type": "execute_result"
    }
   ],
   "source": [
    "data_1= pd.read_csv('student_feedback.csv',index_col = 0)\n",
    "data_1.tail()"
   ]
  },
  {
   "cell_type": "code",
   "execution_count": 3,
   "id": "e66a2b9c-cab2-40f7-b017-d15e57dc846d",
   "metadata": {},
   "outputs": [
    {
     "data": {
      "text/markdown": [
       "## **DATA OVERVIEW**"
      ],
      "text/plain": [
       "<IPython.core.display.Markdown object>"
      ]
     },
     "metadata": {},
     "output_type": "display_data"
    },
    {
     "data": {
      "text/markdown": [
       "**Preview of the first five rows:**"
      ],
      "text/plain": [
       "<IPython.core.display.Markdown object>"
      ]
     },
     "metadata": {},
     "output_type": "display_data"
    },
    {
     "data": {
      "text/html": [
       "<div>\n",
       "<style scoped>\n",
       "    .dataframe tbody tr th:only-of-type {\n",
       "        vertical-align: middle;\n",
       "    }\n",
       "\n",
       "    .dataframe tbody tr th {\n",
       "        vertical-align: top;\n",
       "    }\n",
       "\n",
       "    .dataframe thead th {\n",
       "        text-align: right;\n",
       "    }\n",
       "</style>\n",
       "<table border=\"1\" class=\"dataframe\">\n",
       "  <thead>\n",
       "    <tr style=\"text-align: right;\">\n",
       "      <th></th>\n",
       "      <th>Student ID</th>\n",
       "      <th>Well versed with the subject</th>\n",
       "      <th>Explains concepts in an understandable way</th>\n",
       "      <th>Use of presentations</th>\n",
       "      <th>Degree of difficulty of assignments</th>\n",
       "      <th>Solves doubts willingly</th>\n",
       "      <th>Structuring of the course</th>\n",
       "      <th>Provides support for students going above and beyond</th>\n",
       "      <th>Course recommendation based on relevance</th>\n",
       "    </tr>\n",
       "  </thead>\n",
       "  <tbody>\n",
       "    <tr>\n",
       "      <th>0</th>\n",
       "      <td>340</td>\n",
       "      <td>5</td>\n",
       "      <td>2</td>\n",
       "      <td>7</td>\n",
       "      <td>6</td>\n",
       "      <td>9</td>\n",
       "      <td>2</td>\n",
       "      <td>1</td>\n",
       "      <td>8</td>\n",
       "    </tr>\n",
       "    <tr>\n",
       "      <th>1</th>\n",
       "      <td>253</td>\n",
       "      <td>6</td>\n",
       "      <td>5</td>\n",
       "      <td>8</td>\n",
       "      <td>6</td>\n",
       "      <td>2</td>\n",
       "      <td>1</td>\n",
       "      <td>2</td>\n",
       "      <td>9</td>\n",
       "    </tr>\n",
       "    <tr>\n",
       "      <th>2</th>\n",
       "      <td>680</td>\n",
       "      <td>7</td>\n",
       "      <td>7</td>\n",
       "      <td>6</td>\n",
       "      <td>5</td>\n",
       "      <td>4</td>\n",
       "      <td>2</td>\n",
       "      <td>3</td>\n",
       "      <td>1</td>\n",
       "    </tr>\n",
       "    <tr>\n",
       "      <th>3</th>\n",
       "      <td>806</td>\n",
       "      <td>9</td>\n",
       "      <td>6</td>\n",
       "      <td>7</td>\n",
       "      <td>1</td>\n",
       "      <td>5</td>\n",
       "      <td>9</td>\n",
       "      <td>4</td>\n",
       "      <td>6</td>\n",
       "    </tr>\n",
       "    <tr>\n",
       "      <th>4</th>\n",
       "      <td>632</td>\n",
       "      <td>8</td>\n",
       "      <td>10</td>\n",
       "      <td>8</td>\n",
       "      <td>4</td>\n",
       "      <td>6</td>\n",
       "      <td>6</td>\n",
       "      <td>9</td>\n",
       "      <td>9</td>\n",
       "    </tr>\n",
       "  </tbody>\n",
       "</table>\n",
       "</div>"
      ],
      "text/plain": [
       "   Student ID  Well versed with the subject  \\\n",
       "0         340                             5   \n",
       "1         253                             6   \n",
       "2         680                             7   \n",
       "3         806                             9   \n",
       "4         632                             8   \n",
       "\n",
       "   Explains concepts in an understandable way  Use of presentations  \\\n",
       "0                                           2                     7   \n",
       "1                                           5                     8   \n",
       "2                                           7                     6   \n",
       "3                                           6                     7   \n",
       "4                                          10                     8   \n",
       "\n",
       "   Degree of difficulty of assignments  Solves doubts willingly  \\\n",
       "0                                    6                        9   \n",
       "1                                    6                        2   \n",
       "2                                    5                        4   \n",
       "3                                    1                        5   \n",
       "4                                    4                        6   \n",
       "\n",
       "   Structuring of the course  \\\n",
       "0                          2   \n",
       "1                          1   \n",
       "2                          2   \n",
       "3                          9   \n",
       "4                          6   \n",
       "\n",
       "   Provides support for students going above and beyond  \\\n",
       "0                                                  1      \n",
       "1                                                  2      \n",
       "2                                                  3      \n",
       "3                                                  4      \n",
       "4                                                  9      \n",
       "\n",
       "   Course recommendation based on relevance  \n",
       "0                                         8  \n",
       "1                                         9  \n",
       "2                                         1  \n",
       "3                                         6  \n",
       "4                                         9  "
      ]
     },
     "metadata": {},
     "output_type": "display_data"
    },
    {
     "data": {
      "text/markdown": [
       "**Dataset shape:** (1001, 9)"
      ],
      "text/plain": [
       "<IPython.core.display.Markdown object>"
      ]
     },
     "metadata": {},
     "output_type": "display_data"
    },
    {
     "data": {
      "text/markdown": [
       "**Dataset columns:** ['Student ID', 'Well versed with the subject', 'Explains concepts in an understandable way', 'Use of presentations', 'Degree of difficulty of assignments', 'Solves doubts willingly', 'Structuring of the course', 'Provides support for students going above and beyond', 'Course recommendation based on relevance']"
      ],
      "text/plain": [
       "<IPython.core.display.Markdown object>"
      ]
     },
     "metadata": {},
     "output_type": "display_data"
    },
    {
     "data": {
      "text/markdown": [
       "## **DATA TYPES**"
      ],
      "text/plain": [
       "<IPython.core.display.Markdown object>"
      ]
     },
     "metadata": {},
     "output_type": "display_data"
    },
    {
     "data": {
      "text/markdown": [
       "**Data types:**"
      ],
      "text/plain": [
       "<IPython.core.display.Markdown object>"
      ]
     },
     "metadata": {},
     "output_type": "display_data"
    },
    {
     "data": {
      "text/plain": [
       "Student ID                                              int64\n",
       "Well versed with the subject                            int64\n",
       "Explains concepts in an understandable way              int64\n",
       "Use of presentations                                    int64\n",
       "Degree of difficulty of assignments                     int64\n",
       "Solves doubts willingly                                 int64\n",
       "Structuring of the course                               int64\n",
       "Provides support for students going above and beyond    int64\n",
       "Course recommendation based on relevance                int64\n",
       "dtype: object"
      ]
     },
     "metadata": {},
     "output_type": "display_data"
    },
    {
     "data": {
      "text/markdown": [
       "## **META DATA**"
      ],
      "text/plain": [
       "<IPython.core.display.Markdown object>"
      ]
     },
     "metadata": {},
     "output_type": "display_data"
    },
    {
     "data": {
      "text/markdown": [
       "**Meta data:**"
      ],
      "text/plain": [
       "<IPython.core.display.Markdown object>"
      ]
     },
     "metadata": {},
     "output_type": "display_data"
    },
    {
     "name": "stdout",
     "output_type": "stream",
     "text": [
      "<class 'pandas.core.frame.DataFrame'>\n",
      "Index: 1001 entries, 0 to 1000\n",
      "Data columns (total 9 columns):\n",
      " #   Column                                                Non-Null Count  Dtype\n",
      "---  ------                                                --------------  -----\n",
      " 0   Student ID                                            1001 non-null   int64\n",
      " 1   Well versed with the subject                          1001 non-null   int64\n",
      " 2   Explains concepts in an understandable way            1001 non-null   int64\n",
      " 3   Use of presentations                                  1001 non-null   int64\n",
      " 4   Degree of difficulty of assignments                   1001 non-null   int64\n",
      " 5   Solves doubts willingly                               1001 non-null   int64\n",
      " 6   Structuring of the course                             1001 non-null   int64\n",
      " 7   Provides support for students going above and beyond  1001 non-null   int64\n",
      " 8   Course recommendation based on relevance              1001 non-null   int64\n",
      "dtypes: int64(9)\n",
      "memory usage: 78.2 KB\n"
     ]
    },
    {
     "data": {
      "text/plain": [
       "None"
      ]
     },
     "metadata": {},
     "output_type": "display_data"
    },
    {
     "data": {
      "text/markdown": [
       "## **STATISTICAL SUMMARY**"
      ],
      "text/plain": [
       "<IPython.core.display.Markdown object>"
      ]
     },
     "metadata": {},
     "output_type": "display_data"
    },
    {
     "data": {
      "text/markdown": [
       "**Statistical summary:**"
      ],
      "text/plain": [
       "<IPython.core.display.Markdown object>"
      ]
     },
     "metadata": {},
     "output_type": "display_data"
    },
    {
     "data": {
      "text/html": [
       "<div>\n",
       "<style scoped>\n",
       "    .dataframe tbody tr th:only-of-type {\n",
       "        vertical-align: middle;\n",
       "    }\n",
       "\n",
       "    .dataframe tbody tr th {\n",
       "        vertical-align: top;\n",
       "    }\n",
       "\n",
       "    .dataframe thead th {\n",
       "        text-align: right;\n",
       "    }\n",
       "</style>\n",
       "<table border=\"1\" class=\"dataframe\">\n",
       "  <thead>\n",
       "    <tr style=\"text-align: right;\">\n",
       "      <th></th>\n",
       "      <th>Student ID</th>\n",
       "      <th>Well versed with the subject</th>\n",
       "      <th>Explains concepts in an understandable way</th>\n",
       "      <th>Use of presentations</th>\n",
       "      <th>Degree of difficulty of assignments</th>\n",
       "      <th>Solves doubts willingly</th>\n",
       "      <th>Structuring of the course</th>\n",
       "      <th>Provides support for students going above and beyond</th>\n",
       "      <th>Course recommendation based on relevance</th>\n",
       "    </tr>\n",
       "  </thead>\n",
       "  <tbody>\n",
       "    <tr>\n",
       "      <th>count</th>\n",
       "      <td>1001.00</td>\n",
       "      <td>1001.00</td>\n",
       "      <td>1001.00</td>\n",
       "      <td>1001.00</td>\n",
       "      <td>1001.00</td>\n",
       "      <td>1001.00</td>\n",
       "      <td>1001.00</td>\n",
       "      <td>1001.00</td>\n",
       "      <td>1001.00</td>\n",
       "    </tr>\n",
       "    <tr>\n",
       "      <th>mean</th>\n",
       "      <td>500.00</td>\n",
       "      <td>7.50</td>\n",
       "      <td>6.08</td>\n",
       "      <td>5.94</td>\n",
       "      <td>5.43</td>\n",
       "      <td>5.47</td>\n",
       "      <td>5.64</td>\n",
       "      <td>5.66</td>\n",
       "      <td>5.60</td>\n",
       "    </tr>\n",
       "    <tr>\n",
       "      <th>std</th>\n",
       "      <td>289.11</td>\n",
       "      <td>1.69</td>\n",
       "      <td>2.60</td>\n",
       "      <td>1.42</td>\n",
       "      <td>2.87</td>\n",
       "      <td>2.87</td>\n",
       "      <td>2.92</td>\n",
       "      <td>2.89</td>\n",
       "      <td>2.89</td>\n",
       "    </tr>\n",
       "    <tr>\n",
       "      <th>min</th>\n",
       "      <td>0.00</td>\n",
       "      <td>5.00</td>\n",
       "      <td>2.00</td>\n",
       "      <td>4.00</td>\n",
       "      <td>1.00</td>\n",
       "      <td>1.00</td>\n",
       "      <td>1.00</td>\n",
       "      <td>1.00</td>\n",
       "      <td>1.00</td>\n",
       "    </tr>\n",
       "    <tr>\n",
       "      <th>25%</th>\n",
       "      <td>250.00</td>\n",
       "      <td>6.00</td>\n",
       "      <td>4.00</td>\n",
       "      <td>5.00</td>\n",
       "      <td>3.00</td>\n",
       "      <td>3.00</td>\n",
       "      <td>3.00</td>\n",
       "      <td>3.00</td>\n",
       "      <td>3.00</td>\n",
       "    </tr>\n",
       "    <tr>\n",
       "      <th>50%</th>\n",
       "      <td>500.00</td>\n",
       "      <td>8.00</td>\n",
       "      <td>6.00</td>\n",
       "      <td>6.00</td>\n",
       "      <td>5.00</td>\n",
       "      <td>6.00</td>\n",
       "      <td>6.00</td>\n",
       "      <td>6.00</td>\n",
       "      <td>6.00</td>\n",
       "    </tr>\n",
       "    <tr>\n",
       "      <th>75%</th>\n",
       "      <td>750.00</td>\n",
       "      <td>9.00</td>\n",
       "      <td>8.00</td>\n",
       "      <td>7.00</td>\n",
       "      <td>8.00</td>\n",
       "      <td>8.00</td>\n",
       "      <td>8.00</td>\n",
       "      <td>8.00</td>\n",
       "      <td>8.00</td>\n",
       "    </tr>\n",
       "    <tr>\n",
       "      <th>max</th>\n",
       "      <td>1000.00</td>\n",
       "      <td>10.00</td>\n",
       "      <td>10.00</td>\n",
       "      <td>8.00</td>\n",
       "      <td>10.00</td>\n",
       "      <td>10.00</td>\n",
       "      <td>10.00</td>\n",
       "      <td>10.00</td>\n",
       "      <td>10.00</td>\n",
       "    </tr>\n",
       "  </tbody>\n",
       "</table>\n",
       "</div>"
      ],
      "text/plain": [
       "       Student ID  Well versed with the subject  \\\n",
       "count     1001.00                       1001.00   \n",
       "mean       500.00                          7.50   \n",
       "std        289.11                          1.69   \n",
       "min          0.00                          5.00   \n",
       "25%        250.00                          6.00   \n",
       "50%        500.00                          8.00   \n",
       "75%        750.00                          9.00   \n",
       "max       1000.00                         10.00   \n",
       "\n",
       "       Explains concepts in an understandable way  Use of presentations  \\\n",
       "count                                     1001.00               1001.00   \n",
       "mean                                         6.08                  5.94   \n",
       "std                                          2.60                  1.42   \n",
       "min                                          2.00                  4.00   \n",
       "25%                                          4.00                  5.00   \n",
       "50%                                          6.00                  6.00   \n",
       "75%                                          8.00                  7.00   \n",
       "max                                         10.00                  8.00   \n",
       "\n",
       "       Degree of difficulty of assignments  Solves doubts willingly  \\\n",
       "count                              1001.00                  1001.00   \n",
       "mean                                  5.43                     5.47   \n",
       "std                                   2.87                     2.87   \n",
       "min                                   1.00                     1.00   \n",
       "25%                                   3.00                     3.00   \n",
       "50%                                   5.00                     6.00   \n",
       "75%                                   8.00                     8.00   \n",
       "max                                  10.00                    10.00   \n",
       "\n",
       "       Structuring of the course  \\\n",
       "count                    1001.00   \n",
       "mean                        5.64   \n",
       "std                         2.92   \n",
       "min                         1.00   \n",
       "25%                         3.00   \n",
       "50%                         6.00   \n",
       "75%                         8.00   \n",
       "max                        10.00   \n",
       "\n",
       "       Provides support for students going above and beyond  \\\n",
       "count                                            1001.00      \n",
       "mean                                                5.66      \n",
       "std                                                 2.89      \n",
       "min                                                 1.00      \n",
       "25%                                                 3.00      \n",
       "50%                                                 6.00      \n",
       "75%                                                 8.00      \n",
       "max                                                10.00      \n",
       "\n",
       "       Course recommendation based on relevance  \n",
       "count                                   1001.00  \n",
       "mean                                       5.60  \n",
       "std                                        2.89  \n",
       "min                                        1.00  \n",
       "25%                                        3.00  \n",
       "50%                                        6.00  \n",
       "75%                                        8.00  \n",
       "max                                       10.00  "
      ]
     },
     "metadata": {},
     "output_type": "display_data"
    },
    {
     "data": {
      "text/markdown": [
       "## **MISSING VALUES**"
      ],
      "text/plain": [
       "<IPython.core.display.Markdown object>"
      ]
     },
     "metadata": {},
     "output_type": "display_data"
    },
    {
     "data": {
      "text/markdown": [
       "**Missing Values:**"
      ],
      "text/plain": [
       "<IPython.core.display.Markdown object>"
      ]
     },
     "metadata": {},
     "output_type": "display_data"
    },
    {
     "data": {
      "text/plain": [
       "Student ID                                              0\n",
       "Well versed with the subject                            0\n",
       "Explains concepts in an understandable way              0\n",
       "Use of presentations                                    0\n",
       "Degree of difficulty of assignments                     0\n",
       "Solves doubts willingly                                 0\n",
       "Structuring of the course                               0\n",
       "Provides support for students going above and beyond    0\n",
       "Course recommendation based on relevance                0\n",
       "dtype: int64"
      ]
     },
     "metadata": {},
     "output_type": "display_data"
    },
    {
     "data": {
      "text/markdown": [
       "## **DUPLICATES**"
      ],
      "text/plain": [
       "<IPython.core.display.Markdown object>"
      ]
     },
     "metadata": {},
     "output_type": "display_data"
    },
    {
     "data": {
      "text/markdown": [
       "**Duplicates:**"
      ],
      "text/plain": [
       "<IPython.core.display.Markdown object>"
      ]
     },
     "metadata": {},
     "output_type": "display_data"
    },
    {
     "data": {
      "text/plain": [
       "False    1001\n",
       "Name: count, dtype: int64"
      ]
     },
     "metadata": {},
     "output_type": "display_data"
    }
   ],
   "source": [
    "from IPython.display import display, Markdown\n",
    "\n",
    "# Bold section titles\n",
    "display(Markdown(\"## **DATA OVERVIEW**\"))\n",
    "display(Markdown(\"**Preview of the first five rows:**\"))\n",
    "display(data_1.head())\n",
    "\n",
    "display(Markdown(f\"**Dataset shape:** {data_1.shape}\"))\n",
    "display(Markdown(f\"**Dataset columns:** {list(data_1.columns)}\"))\n",
    "\n",
    "display(Markdown(\"## **DATA TYPES**\"))\n",
    "display(Markdown(\"**Data types:**\"))\n",
    "display(data_1.dtypes)\n",
    "\n",
    "display(Markdown(\"## **META DATA**\"))\n",
    "display(Markdown(\"**Meta data:**\"))\n",
    "display(data_1.info()) \n",
    "\n",
    "display(Markdown(\"## **STATISTICAL SUMMARY**\"))\n",
    "display(Markdown(\"**Statistical summary:**\"))\n",
    "display(data_1.describe().round(2))\n",
    "\n",
    "display(Markdown(\"## **MISSING VALUES**\"))\n",
    "display(Markdown(\"**Missing Values:**\"))\n",
    "display(data_1.isna().sum())\n",
    "\n",
    "display(Markdown(\"## **DUPLICATES**\"))\n",
    "display(Markdown(\"**Duplicates:**\"))\n",
    "display(data_1.duplicated().value_counts())\n"
   ]
  },
  {
   "cell_type": "code",
   "execution_count": null,
   "id": "1b3ec938-382f-4f37-9a53-8de5028d71bb",
   "metadata": {},
   "outputs": [],
   "source": []
  },
  {
   "cell_type": "code",
   "execution_count": null,
   "id": "1d9a89dd-674a-4a01-9f88-6a108b8a51e6",
   "metadata": {},
   "outputs": [],
   "source": []
  },
  {
   "cell_type": "code",
   "execution_count": null,
   "id": "dd5a7c1e-3bc3-4f50-8b0c-6cece5559a05",
   "metadata": {},
   "outputs": [],
   "source": []
  },
  {
   "cell_type": "code",
   "execution_count": null,
   "id": "7716caf6-88b1-432e-801f-45b09a1e8999",
   "metadata": {},
   "outputs": [],
   "source": []
  },
  {
   "cell_type": "markdown",
   "id": "03b735d1-af44-44e9-8d7a-f467e38d153b",
   "metadata": {},
   "source": [
    "# `Dataset 2`"
   ]
  },
  {
   "cell_type": "code",
   "execution_count": 4,
   "id": "c78582d3-da9f-47af-a4c1-8c64ca71b752",
   "metadata": {},
   "outputs": [
    {
     "data": {
      "text/html": [
       "<div>\n",
       "<style scoped>\n",
       "    .dataframe tbody tr th:only-of-type {\n",
       "        vertical-align: middle;\n",
       "    }\n",
       "\n",
       "    .dataframe tbody tr th {\n",
       "        vertical-align: top;\n",
       "    }\n",
       "\n",
       "    .dataframe thead th {\n",
       "        text-align: right;\n",
       "    }\n",
       "</style>\n",
       "<table border=\"1\" class=\"dataframe\">\n",
       "  <thead>\n",
       "    <tr style=\"text-align: right;\">\n",
       "      <th></th>\n",
       "      <th>SN</th>\n",
       "      <th>Total Feedback Given</th>\n",
       "      <th>Total Configured</th>\n",
       "      <th>Questions</th>\n",
       "      <th>Weightage 1</th>\n",
       "      <th>Weightage 2</th>\n",
       "      <th>Weightage 3</th>\n",
       "      <th>Weightage 4</th>\n",
       "      <th>Weightage 5</th>\n",
       "      <th>Average/ Percentage</th>\n",
       "      <th>Course Name</th>\n",
       "      <th>Basic Course</th>\n",
       "    </tr>\n",
       "  </thead>\n",
       "  <tbody>\n",
       "    <tr>\n",
       "      <th>0</th>\n",
       "      <td>1</td>\n",
       "      <td>1</td>\n",
       "      <td>12</td>\n",
       "      <td>How much of the syllabus was covered in the cl...</td>\n",
       "      <td>0</td>\n",
       "      <td>0</td>\n",
       "      <td>1</td>\n",
       "      <td>0</td>\n",
       "      <td>0</td>\n",
       "      <td>3.00 / 60.00</td>\n",
       "      <td>FY B.VOC FOOD TECHNOLOGY</td>\n",
       "      <td>B.VOC FOOD TECHNOLOGY</td>\n",
       "    </tr>\n",
       "    <tr>\n",
       "      <th>1</th>\n",
       "      <td>2</td>\n",
       "      <td>1</td>\n",
       "      <td>12</td>\n",
       "      <td>How well did the teachers prepare for the clas...</td>\n",
       "      <td>0</td>\n",
       "      <td>0</td>\n",
       "      <td>0</td>\n",
       "      <td>0</td>\n",
       "      <td>1</td>\n",
       "      <td>5.00 / 100.00</td>\n",
       "      <td>FY B.VOC FOOD TECHNOLOGY</td>\n",
       "      <td>B.VOC FOOD TECHNOLOGY</td>\n",
       "    </tr>\n",
       "    <tr>\n",
       "      <th>2</th>\n",
       "      <td>3</td>\n",
       "      <td>1</td>\n",
       "      <td>12</td>\n",
       "      <td>How well were the teachers able to communicate?</td>\n",
       "      <td>0</td>\n",
       "      <td>0</td>\n",
       "      <td>0</td>\n",
       "      <td>0</td>\n",
       "      <td>1</td>\n",
       "      <td>5.00 / 100.00</td>\n",
       "      <td>FY B.VOC FOOD TECHNOLOGY</td>\n",
       "      <td>B.VOC FOOD TECHNOLOGY</td>\n",
       "    </tr>\n",
       "    <tr>\n",
       "      <th>3</th>\n",
       "      <td>4</td>\n",
       "      <td>1</td>\n",
       "      <td>12</td>\n",
       "      <td>The teachers approach to teaching can best be...</td>\n",
       "      <td>0</td>\n",
       "      <td>0</td>\n",
       "      <td>1</td>\n",
       "      <td>0</td>\n",
       "      <td>0</td>\n",
       "      <td>3.00 / 60.00</td>\n",
       "      <td>FY B.VOC FOOD TECHNOLOGY</td>\n",
       "      <td>B.VOC FOOD TECHNOLOGY</td>\n",
       "    </tr>\n",
       "    <tr>\n",
       "      <th>4</th>\n",
       "      <td>5</td>\n",
       "      <td>1</td>\n",
       "      <td>12</td>\n",
       "      <td>Fairness of the internal evaluation process by...</td>\n",
       "      <td>0</td>\n",
       "      <td>0</td>\n",
       "      <td>0</td>\n",
       "      <td>1</td>\n",
       "      <td>0</td>\n",
       "      <td>4.00 / 80.00</td>\n",
       "      <td>FY B.VOC FOOD TECHNOLOGY</td>\n",
       "      <td>B.VOC FOOD TECHNOLOGY</td>\n",
       "    </tr>\n",
       "  </tbody>\n",
       "</table>\n",
       "</div>"
      ],
      "text/plain": [
       "   SN  Total Feedback Given  Total Configured  \\\n",
       "0   1                     1                12   \n",
       "1   2                     1                12   \n",
       "2   3                     1                12   \n",
       "3   4                     1                12   \n",
       "4   5                     1                12   \n",
       "\n",
       "                                           Questions  Weightage 1  \\\n",
       "0  How much of the syllabus was covered in the cl...            0   \n",
       "1  How well did the teachers prepare for the clas...            0   \n",
       "2    How well were the teachers able to communicate?            0   \n",
       "3  The teachers approach to teaching can best be...            0   \n",
       "4  Fairness of the internal evaluation process by...            0   \n",
       "\n",
       "   Weightage 2  Weightage 3  Weightage 4  Weightage 5 Average/ Percentage  \\\n",
       "0            0            1            0            0        3.00 / 60.00   \n",
       "1            0            0            0            1       5.00 / 100.00   \n",
       "2            0            0            0            1       5.00 / 100.00   \n",
       "3            0            1            0            0        3.00 / 60.00   \n",
       "4            0            0            1            0        4.00 / 80.00   \n",
       "\n",
       "               Course Name            Basic Course  \n",
       "0  FY B.VOC FOOD TECHNOLOGY  B.VOC FOOD TECHNOLOGY  \n",
       "1  FY B.VOC FOOD TECHNOLOGY  B.VOC FOOD TECHNOLOGY  \n",
       "2  FY B.VOC FOOD TECHNOLOGY  B.VOC FOOD TECHNOLOGY  \n",
       "3  FY B.VOC FOOD TECHNOLOGY  B.VOC FOOD TECHNOLOGY  \n",
       "4  FY B.VOC FOOD TECHNOLOGY  B.VOC FOOD TECHNOLOGY  "
      ]
     },
     "execution_count": 4,
     "metadata": {},
     "output_type": "execute_result"
    }
   ],
   "source": [
    "data_2 = pd.read_csv('Student_Satisfaction_Survey.csv',encoding = 'latin1')\n",
    "data_2.head()"
   ]
  },
  {
   "cell_type": "code",
   "execution_count": 5,
   "id": "f8e98798-1f68-4c92-bf4b-f56b797d8892",
   "metadata": {},
   "outputs": [
    {
     "data": {
      "text/plain": [
       "False    580\n",
       "Name: count, dtype: int64"
      ]
     },
     "execution_count": 5,
     "metadata": {},
     "output_type": "execute_result"
    }
   ],
   "source": [
    "data_2.duplicated().value_counts()"
   ]
  },
  {
   "cell_type": "code",
   "execution_count": 6,
   "id": "f6a4e423-7754-4af0-8eae-39f96345279e",
   "metadata": {},
   "outputs": [
    {
     "data": {
      "text/plain": [
       "SN                      0\n",
       "Total Feedback Given    0\n",
       "Total Configured        0\n",
       "Questions               0\n",
       "Weightage 1             0\n",
       "Weightage 2             0\n",
       "Weightage 3             0\n",
       "Weightage 4             0\n",
       "Weightage 5             0\n",
       "Average/ Percentage     0\n",
       "Course Name             0\n",
       "Basic Course            0\n",
       "dtype: int64"
      ]
     },
     "execution_count": 6,
     "metadata": {},
     "output_type": "execute_result"
    }
   ],
   "source": [
    "data_2.isna().sum()"
   ]
  },
  {
   "cell_type": "code",
   "execution_count": 7,
   "id": "da7a87be-f332-4b73-8f9a-1d898756c4a1",
   "metadata": {},
   "outputs": [
    {
     "data": {
      "text/markdown": [
       "## **DATA OVERVIEW**"
      ],
      "text/plain": [
       "<IPython.core.display.Markdown object>"
      ]
     },
     "metadata": {},
     "output_type": "display_data"
    },
    {
     "data": {
      "text/markdown": [
       "**Preview of the first five rows:**"
      ],
      "text/plain": [
       "<IPython.core.display.Markdown object>"
      ]
     },
     "metadata": {},
     "output_type": "display_data"
    },
    {
     "data": {
      "text/html": [
       "<div>\n",
       "<style scoped>\n",
       "    .dataframe tbody tr th:only-of-type {\n",
       "        vertical-align: middle;\n",
       "    }\n",
       "\n",
       "    .dataframe tbody tr th {\n",
       "        vertical-align: top;\n",
       "    }\n",
       "\n",
       "    .dataframe thead th {\n",
       "        text-align: right;\n",
       "    }\n",
       "</style>\n",
       "<table border=\"1\" class=\"dataframe\">\n",
       "  <thead>\n",
       "    <tr style=\"text-align: right;\">\n",
       "      <th></th>\n",
       "      <th>SN</th>\n",
       "      <th>Total Feedback Given</th>\n",
       "      <th>Total Configured</th>\n",
       "      <th>Questions</th>\n",
       "      <th>Weightage 1</th>\n",
       "      <th>Weightage 2</th>\n",
       "      <th>Weightage 3</th>\n",
       "      <th>Weightage 4</th>\n",
       "      <th>Weightage 5</th>\n",
       "      <th>Average/ Percentage</th>\n",
       "      <th>Course Name</th>\n",
       "      <th>Basic Course</th>\n",
       "    </tr>\n",
       "  </thead>\n",
       "  <tbody>\n",
       "    <tr>\n",
       "      <th>0</th>\n",
       "      <td>1</td>\n",
       "      <td>1</td>\n",
       "      <td>12</td>\n",
       "      <td>How much of the syllabus was covered in the cl...</td>\n",
       "      <td>0</td>\n",
       "      <td>0</td>\n",
       "      <td>1</td>\n",
       "      <td>0</td>\n",
       "      <td>0</td>\n",
       "      <td>3.00 / 60.00</td>\n",
       "      <td>FY B.VOC FOOD TECHNOLOGY</td>\n",
       "      <td>B.VOC FOOD TECHNOLOGY</td>\n",
       "    </tr>\n",
       "    <tr>\n",
       "      <th>1</th>\n",
       "      <td>2</td>\n",
       "      <td>1</td>\n",
       "      <td>12</td>\n",
       "      <td>How well did the teachers prepare for the clas...</td>\n",
       "      <td>0</td>\n",
       "      <td>0</td>\n",
       "      <td>0</td>\n",
       "      <td>0</td>\n",
       "      <td>1</td>\n",
       "      <td>5.00 / 100.00</td>\n",
       "      <td>FY B.VOC FOOD TECHNOLOGY</td>\n",
       "      <td>B.VOC FOOD TECHNOLOGY</td>\n",
       "    </tr>\n",
       "    <tr>\n",
       "      <th>2</th>\n",
       "      <td>3</td>\n",
       "      <td>1</td>\n",
       "      <td>12</td>\n",
       "      <td>How well were the teachers able to communicate?</td>\n",
       "      <td>0</td>\n",
       "      <td>0</td>\n",
       "      <td>0</td>\n",
       "      <td>0</td>\n",
       "      <td>1</td>\n",
       "      <td>5.00 / 100.00</td>\n",
       "      <td>FY B.VOC FOOD TECHNOLOGY</td>\n",
       "      <td>B.VOC FOOD TECHNOLOGY</td>\n",
       "    </tr>\n",
       "    <tr>\n",
       "      <th>3</th>\n",
       "      <td>4</td>\n",
       "      <td>1</td>\n",
       "      <td>12</td>\n",
       "      <td>The teachers approach to teaching can best be...</td>\n",
       "      <td>0</td>\n",
       "      <td>0</td>\n",
       "      <td>1</td>\n",
       "      <td>0</td>\n",
       "      <td>0</td>\n",
       "      <td>3.00 / 60.00</td>\n",
       "      <td>FY B.VOC FOOD TECHNOLOGY</td>\n",
       "      <td>B.VOC FOOD TECHNOLOGY</td>\n",
       "    </tr>\n",
       "    <tr>\n",
       "      <th>4</th>\n",
       "      <td>5</td>\n",
       "      <td>1</td>\n",
       "      <td>12</td>\n",
       "      <td>Fairness of the internal evaluation process by...</td>\n",
       "      <td>0</td>\n",
       "      <td>0</td>\n",
       "      <td>0</td>\n",
       "      <td>1</td>\n",
       "      <td>0</td>\n",
       "      <td>4.00 / 80.00</td>\n",
       "      <td>FY B.VOC FOOD TECHNOLOGY</td>\n",
       "      <td>B.VOC FOOD TECHNOLOGY</td>\n",
       "    </tr>\n",
       "  </tbody>\n",
       "</table>\n",
       "</div>"
      ],
      "text/plain": [
       "   SN  Total Feedback Given  Total Configured  \\\n",
       "0   1                     1                12   \n",
       "1   2                     1                12   \n",
       "2   3                     1                12   \n",
       "3   4                     1                12   \n",
       "4   5                     1                12   \n",
       "\n",
       "                                           Questions  Weightage 1  \\\n",
       "0  How much of the syllabus was covered in the cl...            0   \n",
       "1  How well did the teachers prepare for the clas...            0   \n",
       "2    How well were the teachers able to communicate?            0   \n",
       "3  The teachers approach to teaching can best be...            0   \n",
       "4  Fairness of the internal evaluation process by...            0   \n",
       "\n",
       "   Weightage 2  Weightage 3  Weightage 4  Weightage 5 Average/ Percentage  \\\n",
       "0            0            1            0            0        3.00 / 60.00   \n",
       "1            0            0            0            1       5.00 / 100.00   \n",
       "2            0            0            0            1       5.00 / 100.00   \n",
       "3            0            1            0            0        3.00 / 60.00   \n",
       "4            0            0            1            0        4.00 / 80.00   \n",
       "\n",
       "               Course Name            Basic Course  \n",
       "0  FY B.VOC FOOD TECHNOLOGY  B.VOC FOOD TECHNOLOGY  \n",
       "1  FY B.VOC FOOD TECHNOLOGY  B.VOC FOOD TECHNOLOGY  \n",
       "2  FY B.VOC FOOD TECHNOLOGY  B.VOC FOOD TECHNOLOGY  \n",
       "3  FY B.VOC FOOD TECHNOLOGY  B.VOC FOOD TECHNOLOGY  \n",
       "4  FY B.VOC FOOD TECHNOLOGY  B.VOC FOOD TECHNOLOGY  "
      ]
     },
     "metadata": {},
     "output_type": "display_data"
    },
    {
     "data": {
      "text/markdown": [
       "**Dataset shape:** (580, 12)"
      ],
      "text/plain": [
       "<IPython.core.display.Markdown object>"
      ]
     },
     "metadata": {},
     "output_type": "display_data"
    },
    {
     "data": {
      "text/markdown": [
       "**Dataset columns:** ['SN', 'Total Feedback Given', 'Total Configured', 'Questions', 'Weightage 1', 'Weightage 2', 'Weightage 3', 'Weightage 4', 'Weightage 5', 'Average/ Percentage', 'Course Name ', 'Basic Course']"
      ],
      "text/plain": [
       "<IPython.core.display.Markdown object>"
      ]
     },
     "metadata": {},
     "output_type": "display_data"
    },
    {
     "data": {
      "text/markdown": [
       "## **DATA TYPES**"
      ],
      "text/plain": [
       "<IPython.core.display.Markdown object>"
      ]
     },
     "metadata": {},
     "output_type": "display_data"
    },
    {
     "data": {
      "text/markdown": [
       "**Data types:**"
      ],
      "text/plain": [
       "<IPython.core.display.Markdown object>"
      ]
     },
     "metadata": {},
     "output_type": "display_data"
    },
    {
     "data": {
      "text/plain": [
       "SN                       int64\n",
       "Total Feedback Given     int64\n",
       "Total Configured         int64\n",
       "Questions               object\n",
       "Weightage 1              int64\n",
       "Weightage 2              int64\n",
       "Weightage 3              int64\n",
       "Weightage 4              int64\n",
       "Weightage 5              int64\n",
       "Average/ Percentage     object\n",
       "Course Name             object\n",
       "Basic Course            object\n",
       "dtype: object"
      ]
     },
     "metadata": {},
     "output_type": "display_data"
    },
    {
     "data": {
      "text/markdown": [
       "## **META DATA**"
      ],
      "text/plain": [
       "<IPython.core.display.Markdown object>"
      ]
     },
     "metadata": {},
     "output_type": "display_data"
    },
    {
     "data": {
      "text/markdown": [
       "**Meta data:**"
      ],
      "text/plain": [
       "<IPython.core.display.Markdown object>"
      ]
     },
     "metadata": {},
     "output_type": "display_data"
    },
    {
     "name": "stdout",
     "output_type": "stream",
     "text": [
      "<class 'pandas.core.frame.DataFrame'>\n",
      "RangeIndex: 580 entries, 0 to 579\n",
      "Data columns (total 12 columns):\n",
      " #   Column                Non-Null Count  Dtype \n",
      "---  ------                --------------  ----- \n",
      " 0   SN                    580 non-null    int64 \n",
      " 1   Total Feedback Given  580 non-null    int64 \n",
      " 2   Total Configured      580 non-null    int64 \n",
      " 3   Questions             580 non-null    object\n",
      " 4   Weightage 1           580 non-null    int64 \n",
      " 5   Weightage 2           580 non-null    int64 \n",
      " 6   Weightage 3           580 non-null    int64 \n",
      " 7   Weightage 4           580 non-null    int64 \n",
      " 8   Weightage 5           580 non-null    int64 \n",
      " 9   Average/ Percentage   580 non-null    object\n",
      " 10  Course Name           580 non-null    object\n",
      " 11  Basic Course          580 non-null    object\n",
      "dtypes: int64(8), object(4)\n",
      "memory usage: 54.5+ KB\n"
     ]
    },
    {
     "data": {
      "text/plain": [
       "None"
      ]
     },
     "metadata": {},
     "output_type": "display_data"
    },
    {
     "data": {
      "text/markdown": [
       "## **STATISTICAL SUMMARY**"
      ],
      "text/plain": [
       "<IPython.core.display.Markdown object>"
      ]
     },
     "metadata": {},
     "output_type": "display_data"
    },
    {
     "data": {
      "text/markdown": [
       "**Statistical summary:**"
      ],
      "text/plain": [
       "<IPython.core.display.Markdown object>"
      ]
     },
     "metadata": {},
     "output_type": "display_data"
    },
    {
     "data": {
      "text/html": [
       "<div>\n",
       "<style scoped>\n",
       "    .dataframe tbody tr th:only-of-type {\n",
       "        vertical-align: middle;\n",
       "    }\n",
       "\n",
       "    .dataframe tbody tr th {\n",
       "        vertical-align: top;\n",
       "    }\n",
       "\n",
       "    .dataframe thead th {\n",
       "        text-align: right;\n",
       "    }\n",
       "</style>\n",
       "<table border=\"1\" class=\"dataframe\">\n",
       "  <thead>\n",
       "    <tr style=\"text-align: right;\">\n",
       "      <th></th>\n",
       "      <th>SN</th>\n",
       "      <th>Total Feedback Given</th>\n",
       "      <th>Total Configured</th>\n",
       "      <th>Weightage 1</th>\n",
       "      <th>Weightage 2</th>\n",
       "      <th>Weightage 3</th>\n",
       "      <th>Weightage 4</th>\n",
       "      <th>Weightage 5</th>\n",
       "    </tr>\n",
       "  </thead>\n",
       "  <tbody>\n",
       "    <tr>\n",
       "      <th>count</th>\n",
       "      <td>580.00</td>\n",
       "      <td>580.00</td>\n",
       "      <td>580.00</td>\n",
       "      <td>580.00</td>\n",
       "      <td>580.00</td>\n",
       "      <td>580.00</td>\n",
       "      <td>580.00</td>\n",
       "      <td>580.00</td>\n",
       "    </tr>\n",
       "    <tr>\n",
       "      <th>mean</th>\n",
       "      <td>10.50</td>\n",
       "      <td>14.31</td>\n",
       "      <td>92.52</td>\n",
       "      <td>0.53</td>\n",
       "      <td>1.19</td>\n",
       "      <td>2.54</td>\n",
       "      <td>5.08</td>\n",
       "      <td>4.97</td>\n",
       "    </tr>\n",
       "    <tr>\n",
       "      <th>std</th>\n",
       "      <td>5.77</td>\n",
       "      <td>16.49</td>\n",
       "      <td>114.49</td>\n",
       "      <td>1.31</td>\n",
       "      <td>1.69</td>\n",
       "      <td>3.19</td>\n",
       "      <td>7.29</td>\n",
       "      <td>6.49</td>\n",
       "    </tr>\n",
       "    <tr>\n",
       "      <th>min</th>\n",
       "      <td>1.00</td>\n",
       "      <td>1.00</td>\n",
       "      <td>12.00</td>\n",
       "      <td>0.00</td>\n",
       "      <td>0.00</td>\n",
       "      <td>0.00</td>\n",
       "      <td>0.00</td>\n",
       "      <td>0.00</td>\n",
       "    </tr>\n",
       "    <tr>\n",
       "      <th>25%</th>\n",
       "      <td>5.75</td>\n",
       "      <td>3.00</td>\n",
       "      <td>20.00</td>\n",
       "      <td>0.00</td>\n",
       "      <td>0.00</td>\n",
       "      <td>0.00</td>\n",
       "      <td>1.00</td>\n",
       "      <td>1.00</td>\n",
       "    </tr>\n",
       "    <tr>\n",
       "      <th>50%</th>\n",
       "      <td>10.50</td>\n",
       "      <td>7.00</td>\n",
       "      <td>42.00</td>\n",
       "      <td>0.00</td>\n",
       "      <td>0.00</td>\n",
       "      <td>1.00</td>\n",
       "      <td>3.00</td>\n",
       "      <td>3.00</td>\n",
       "    </tr>\n",
       "    <tr>\n",
       "      <th>75%</th>\n",
       "      <td>15.25</td>\n",
       "      <td>17.00</td>\n",
       "      <td>123.00</td>\n",
       "      <td>1.00</td>\n",
       "      <td>2.00</td>\n",
       "      <td>3.25</td>\n",
       "      <td>6.00</td>\n",
       "      <td>6.00</td>\n",
       "    </tr>\n",
       "    <tr>\n",
       "      <th>max</th>\n",
       "      <td>20.00</td>\n",
       "      <td>74.00</td>\n",
       "      <td>559.00</td>\n",
       "      <td>19.00</td>\n",
       "      <td>8.00</td>\n",
       "      <td>26.00</td>\n",
       "      <td>52.00</td>\n",
       "      <td>38.00</td>\n",
       "    </tr>\n",
       "  </tbody>\n",
       "</table>\n",
       "</div>"
      ],
      "text/plain": [
       "           SN  Total Feedback Given  Total Configured  Weightage 1  \\\n",
       "count  580.00                580.00            580.00       580.00   \n",
       "mean    10.50                 14.31             92.52         0.53   \n",
       "std      5.77                 16.49            114.49         1.31   \n",
       "min      1.00                  1.00             12.00         0.00   \n",
       "25%      5.75                  3.00             20.00         0.00   \n",
       "50%     10.50                  7.00             42.00         0.00   \n",
       "75%     15.25                 17.00            123.00         1.00   \n",
       "max     20.00                 74.00            559.00        19.00   \n",
       "\n",
       "       Weightage 2  Weightage 3  Weightage 4  Weightage 5  \n",
       "count       580.00       580.00       580.00       580.00  \n",
       "mean          1.19         2.54         5.08         4.97  \n",
       "std           1.69         3.19         7.29         6.49  \n",
       "min           0.00         0.00         0.00         0.00  \n",
       "25%           0.00         0.00         1.00         1.00  \n",
       "50%           0.00         1.00         3.00         3.00  \n",
       "75%           2.00         3.25         6.00         6.00  \n",
       "max           8.00        26.00        52.00        38.00  "
      ]
     },
     "metadata": {},
     "output_type": "display_data"
    },
    {
     "data": {
      "text/markdown": [
       "## **MISSING VALUES**"
      ],
      "text/plain": [
       "<IPython.core.display.Markdown object>"
      ]
     },
     "metadata": {},
     "output_type": "display_data"
    },
    {
     "data": {
      "text/markdown": [
       "**Missing Values:**"
      ],
      "text/plain": [
       "<IPython.core.display.Markdown object>"
      ]
     },
     "metadata": {},
     "output_type": "display_data"
    },
    {
     "data": {
      "text/plain": [
       "SN                      0\n",
       "Total Feedback Given    0\n",
       "Total Configured        0\n",
       "Questions               0\n",
       "Weightage 1             0\n",
       "Weightage 2             0\n",
       "Weightage 3             0\n",
       "Weightage 4             0\n",
       "Weightage 5             0\n",
       "Average/ Percentage     0\n",
       "Course Name             0\n",
       "Basic Course            0\n",
       "dtype: int64"
      ]
     },
     "metadata": {},
     "output_type": "display_data"
    },
    {
     "data": {
      "text/markdown": [
       "## **DUPLICATES**"
      ],
      "text/plain": [
       "<IPython.core.display.Markdown object>"
      ]
     },
     "metadata": {},
     "output_type": "display_data"
    },
    {
     "data": {
      "text/markdown": [
       "**Duplicates:**"
      ],
      "text/plain": [
       "<IPython.core.display.Markdown object>"
      ]
     },
     "metadata": {},
     "output_type": "display_data"
    },
    {
     "data": {
      "text/plain": [
       "False    580\n",
       "Name: count, dtype: int64"
      ]
     },
     "metadata": {},
     "output_type": "display_data"
    }
   ],
   "source": [
    "from IPython.display import display, Markdown\n",
    "\n",
    "display(Markdown(\"## **DATA OVERVIEW**\"))\n",
    "display(Markdown(\"**Preview of the first five rows:**\"))\n",
    "display(data_2.head())\n",
    "\n",
    "display(Markdown(f\"**Dataset shape:** {data_2.shape}\"))\n",
    "display(Markdown(f\"**Dataset columns:** {list(data_2.columns)}\"))\n",
    "\n",
    "display(Markdown(\"## **DATA TYPES**\"))\n",
    "display(Markdown(\"**Data types:**\"))\n",
    "display(data_2.dtypes)\n",
    "\n",
    "display(Markdown(\"## **META DATA**\"))\n",
    "display(Markdown(\"**Meta data:**\"))\n",
    "display(data_2.info()) \n",
    "\n",
    "display(Markdown(\"## **STATISTICAL SUMMARY**\"))\n",
    "display(Markdown(\"**Statistical summary:**\"))\n",
    "display(data_2.describe().round(2))\n",
    "\n",
    "display(Markdown(\"## **MISSING VALUES**\"))\n",
    "display(Markdown(\"**Missing Values:**\"))\n",
    "display(data_2.isna().sum())\n",
    "\n",
    "display(Markdown(\"## **DUPLICATES**\"))\n",
    "display(Markdown(\"**Duplicates:**\"))\n",
    "display(data_2.duplicated().value_counts())\n"
   ]
  },
  {
   "cell_type": "code",
   "execution_count": 8,
   "id": "e544c4f7-661c-4f43-938a-ee1bf97a46f1",
   "metadata": {},
   "outputs": [
    {
     "data": {
      "text/plain": [
       "Course Name \n",
       "FY B.VOC FOOD TECHNOLOGY            20\n",
       "MSC DATA SCIENCE - 3                20\n",
       "TYBMS                               20\n",
       "TYBCOM                              20\n",
       "TYBA                                20\n",
       "SY COMPUTER SCIENCE                 20\n",
       "SYBSC                               20\n",
       "SYBMS                               20\n",
       "SYBCOM                              20\n",
       "S.Y.B.A.F                           20\n",
       "MSC PHYSICS - 3                     20\n",
       "MSC ORGANIC CHEMISTRY - 3           20\n",
       "MSC MICROBIOLOGY - 3                20\n",
       "MSC INFORMATION TECHNOLOGY - 3      20\n",
       "M.SC PART - 2 COMPUTER SCIENCE      20\n",
       "FYBA                                20\n",
       "MSC ANALYTICAL CHEMISTRY SEM III    20\n",
       "MSC MICROBIOLOGY - 1                20\n",
       "MSC INFORMATION TECHNOLOGY - 1      20\n",
       "MSC DATA SCIENCE - 1                20\n",
       "MSC ANALYTICAL CHEMISTRY SEM I      20\n",
       "M.SC PART - 1 COMPUTER SCIENCE      20\n",
       "MA PSYCHOLOGY - 3                   20\n",
       "MA PSYCHOLOGY - 1                   20\n",
       "FYBSC                               20\n",
       "FYBMS                               20\n",
       "FY BCOM (BANKING & INSURANCE)       20\n",
       "FY BCOM (ACCOUNTING & FINANCE)      20\n",
       "TYBSC                               20\n",
       "Name: count, dtype: int64"
      ]
     },
     "execution_count": 8,
     "metadata": {},
     "output_type": "execute_result"
    }
   ],
   "source": [
    "data_2['Course Name '].value_counts()"
   ]
  },
  {
   "cell_type": "code",
   "execution_count": 9,
   "id": "38aad60e-c4de-4d3f-8727-57ca04e23efd",
   "metadata": {},
   "outputs": [
    {
     "data": {
      "text/plain": [
       "Index(['SN', 'Total Feedback Given', 'Total Configured', 'Questions',\n",
       "       'Weightage 1', 'Weightage 2', 'Weightage 3', 'Weightage 4',\n",
       "       'Weightage 5', 'Average/ Percentage', 'Course Name ', 'Basic Course'],\n",
       "      dtype='object')"
      ]
     },
     "execution_count": 9,
     "metadata": {},
     "output_type": "execute_result"
    }
   ],
   "source": [
    "data_2.columns"
   ]
  },
  {
   "cell_type": "code",
   "execution_count": 17,
   "id": "c7f033ca-3a04-4a95-a706-59b03e691275",
   "metadata": {},
   "outputs": [
    {
     "data": {
      "text/markdown": [
       "## **VALUE COUNTS PER COLUMN**"
      ],
      "text/plain": [
       "<IPython.core.display.Markdown object>"
      ]
     },
     "metadata": {},
     "output_type": "display_data"
    }
   ],
   "source": [
    "from IPython.display import display, Markdown\r\n",
    "display(Markdown(\"## **VALUE COUNTS PER COLUMN**\"))\r\n"
   ]
  },
  {
   "cell_type": "code",
   "execution_count": 16,
   "id": "ee6510ec-0dc3-493f-89a8-31754e099725",
   "metadata": {},
   "outputs": [
    {
     "data": {
      "text/markdown": [
       "## **VALUE COUNTS PER COLUMN**"
      ],
      "text/plain": [
       "<IPython.core.display.Markdown object>"
      ]
     },
     "metadata": {},
     "output_type": "display_data"
    },
    {
     "data": {
      "text/markdown": [
       "### Column: `SN`"
      ],
      "text/plain": [
       "<IPython.core.display.Markdown object>"
      ]
     },
     "metadata": {},
     "output_type": "display_data"
    },
    {
     "data": {
      "text/html": [
       "<div>\n",
       "<style scoped>\n",
       "    .dataframe tbody tr th:only-of-type {\n",
       "        vertical-align: middle;\n",
       "    }\n",
       "\n",
       "    .dataframe tbody tr th {\n",
       "        vertical-align: top;\n",
       "    }\n",
       "\n",
       "    .dataframe thead th {\n",
       "        text-align: right;\n",
       "    }\n",
       "</style>\n",
       "<table border=\"1\" class=\"dataframe\">\n",
       "  <thead>\n",
       "    <tr style=\"text-align: right;\">\n",
       "      <th></th>\n",
       "      <th>count</th>\n",
       "    </tr>\n",
       "    <tr>\n",
       "      <th>SN</th>\n",
       "      <th></th>\n",
       "    </tr>\n",
       "  </thead>\n",
       "  <tbody>\n",
       "    <tr>\n",
       "      <th>1</th>\n",
       "      <td>29</td>\n",
       "    </tr>\n",
       "    <tr>\n",
       "      <th>2</th>\n",
       "      <td>29</td>\n",
       "    </tr>\n",
       "    <tr>\n",
       "      <th>19</th>\n",
       "      <td>29</td>\n",
       "    </tr>\n",
       "    <tr>\n",
       "      <th>18</th>\n",
       "      <td>29</td>\n",
       "    </tr>\n",
       "    <tr>\n",
       "      <th>17</th>\n",
       "      <td>29</td>\n",
       "    </tr>\n",
       "    <tr>\n",
       "      <th>16</th>\n",
       "      <td>29</td>\n",
       "    </tr>\n",
       "    <tr>\n",
       "      <th>15</th>\n",
       "      <td>29</td>\n",
       "    </tr>\n",
       "    <tr>\n",
       "      <th>14</th>\n",
       "      <td>29</td>\n",
       "    </tr>\n",
       "    <tr>\n",
       "      <th>13</th>\n",
       "      <td>29</td>\n",
       "    </tr>\n",
       "    <tr>\n",
       "      <th>12</th>\n",
       "      <td>29</td>\n",
       "    </tr>\n",
       "  </tbody>\n",
       "</table>\n",
       "</div>"
      ],
      "text/plain": [
       "    count\n",
       "SN       \n",
       "1      29\n",
       "2      29\n",
       "19     29\n",
       "18     29\n",
       "17     29\n",
       "16     29\n",
       "15     29\n",
       "14     29\n",
       "13     29\n",
       "12     29"
      ]
     },
     "metadata": {},
     "output_type": "display_data"
    },
    {
     "data": {
      "text/markdown": [
       "---"
      ],
      "text/plain": [
       "<IPython.core.display.Markdown object>"
      ]
     },
     "metadata": {},
     "output_type": "display_data"
    },
    {
     "data": {
      "text/markdown": [
       "### Column: `Total Feedback Given`"
      ],
      "text/plain": [
       "<IPython.core.display.Markdown object>"
      ]
     },
     "metadata": {},
     "output_type": "display_data"
    },
    {
     "data": {
      "text/html": [
       "<div>\n",
       "<style scoped>\n",
       "    .dataframe tbody tr th:only-of-type {\n",
       "        vertical-align: middle;\n",
       "    }\n",
       "\n",
       "    .dataframe tbody tr th {\n",
       "        vertical-align: top;\n",
       "    }\n",
       "\n",
       "    .dataframe thead th {\n",
       "        text-align: right;\n",
       "    }\n",
       "</style>\n",
       "<table border=\"1\" class=\"dataframe\">\n",
       "  <thead>\n",
       "    <tr style=\"text-align: right;\">\n",
       "      <th></th>\n",
       "      <th>count</th>\n",
       "    </tr>\n",
       "    <tr>\n",
       "      <th>Total Feedback Given</th>\n",
       "      <th></th>\n",
       "    </tr>\n",
       "  </thead>\n",
       "  <tbody>\n",
       "    <tr>\n",
       "      <th>7</th>\n",
       "      <td>80</td>\n",
       "    </tr>\n",
       "    <tr>\n",
       "      <th>1</th>\n",
       "      <td>60</td>\n",
       "    </tr>\n",
       "    <tr>\n",
       "      <th>3</th>\n",
       "      <td>60</td>\n",
       "    </tr>\n",
       "    <tr>\n",
       "      <th>4</th>\n",
       "      <td>40</td>\n",
       "    </tr>\n",
       "    <tr>\n",
       "      <th>2</th>\n",
       "      <td>40</td>\n",
       "    </tr>\n",
       "    <tr>\n",
       "      <th>14</th>\n",
       "      <td>40</td>\n",
       "    </tr>\n",
       "    <tr>\n",
       "      <th>17</th>\n",
       "      <td>40</td>\n",
       "    </tr>\n",
       "    <tr>\n",
       "      <th>26</th>\n",
       "      <td>20</td>\n",
       "    </tr>\n",
       "    <tr>\n",
       "      <th>12</th>\n",
       "      <td>20</td>\n",
       "    </tr>\n",
       "    <tr>\n",
       "      <th>5</th>\n",
       "      <td>20</td>\n",
       "    </tr>\n",
       "  </tbody>\n",
       "</table>\n",
       "</div>"
      ],
      "text/plain": [
       "                      count\n",
       "Total Feedback Given       \n",
       "7                        80\n",
       "1                        60\n",
       "3                        60\n",
       "4                        40\n",
       "2                        40\n",
       "14                       40\n",
       "17                       40\n",
       "26                       20\n",
       "12                       20\n",
       "5                        20"
      ]
     },
     "metadata": {},
     "output_type": "display_data"
    },
    {
     "data": {
      "text/markdown": [
       "---"
      ],
      "text/plain": [
       "<IPython.core.display.Markdown object>"
      ]
     },
     "metadata": {},
     "output_type": "display_data"
    },
    {
     "data": {
      "text/markdown": [
       "### Column: `Total Configured`"
      ],
      "text/plain": [
       "<IPython.core.display.Markdown object>"
      ]
     },
     "metadata": {},
     "output_type": "display_data"
    },
    {
     "data": {
      "text/html": [
       "<div>\n",
       "<style scoped>\n",
       "    .dataframe tbody tr th:only-of-type {\n",
       "        vertical-align: middle;\n",
       "    }\n",
       "\n",
       "    .dataframe tbody tr th {\n",
       "        vertical-align: top;\n",
       "    }\n",
       "\n",
       "    .dataframe thead th {\n",
       "        text-align: right;\n",
       "    }\n",
       "</style>\n",
       "<table border=\"1\" class=\"dataframe\">\n",
       "  <thead>\n",
       "    <tr style=\"text-align: right;\">\n",
       "      <th></th>\n",
       "      <th>count</th>\n",
       "    </tr>\n",
       "    <tr>\n",
       "      <th>Total Configured</th>\n",
       "      <th></th>\n",
       "    </tr>\n",
       "  </thead>\n",
       "  <tbody>\n",
       "    <tr>\n",
       "      <th>20</th>\n",
       "      <td>80</td>\n",
       "    </tr>\n",
       "    <tr>\n",
       "      <th>24</th>\n",
       "      <td>60</td>\n",
       "    </tr>\n",
       "    <tr>\n",
       "      <th>12</th>\n",
       "      <td>20</td>\n",
       "    </tr>\n",
       "    <tr>\n",
       "      <th>22</th>\n",
       "      <td>20</td>\n",
       "    </tr>\n",
       "    <tr>\n",
       "      <th>105</th>\n",
       "      <td>20</td>\n",
       "    </tr>\n",
       "    <tr>\n",
       "      <th>331</th>\n",
       "      <td>20</td>\n",
       "    </tr>\n",
       "    <tr>\n",
       "      <th>118</th>\n",
       "      <td>20</td>\n",
       "    </tr>\n",
       "    <tr>\n",
       "      <th>48</th>\n",
       "      <td>20</td>\n",
       "    </tr>\n",
       "    <tr>\n",
       "      <th>159</th>\n",
       "      <td>20</td>\n",
       "    </tr>\n",
       "    <tr>\n",
       "      <th>123</th>\n",
       "      <td>20</td>\n",
       "    </tr>\n",
       "  </tbody>\n",
       "</table>\n",
       "</div>"
      ],
      "text/plain": [
       "                  count\n",
       "Total Configured       \n",
       "20                   80\n",
       "24                   60\n",
       "12                   20\n",
       "22                   20\n",
       "105                  20\n",
       "331                  20\n",
       "118                  20\n",
       "48                   20\n",
       "159                  20\n",
       "123                  20"
      ]
     },
     "metadata": {},
     "output_type": "display_data"
    },
    {
     "data": {
      "text/markdown": [
       "---"
      ],
      "text/plain": [
       "<IPython.core.display.Markdown object>"
      ]
     },
     "metadata": {},
     "output_type": "display_data"
    },
    {
     "data": {
      "text/markdown": [
       "### Column: `Questions`"
      ],
      "text/plain": [
       "<IPython.core.display.Markdown object>"
      ]
     },
     "metadata": {},
     "output_type": "display_data"
    },
    {
     "data": {
      "text/html": [
       "<div>\n",
       "<style scoped>\n",
       "    .dataframe tbody tr th:only-of-type {\n",
       "        vertical-align: middle;\n",
       "    }\n",
       "\n",
       "    .dataframe tbody tr th {\n",
       "        vertical-align: top;\n",
       "    }\n",
       "\n",
       "    .dataframe thead th {\n",
       "        text-align: right;\n",
       "    }\n",
       "</style>\n",
       "<table border=\"1\" class=\"dataframe\">\n",
       "  <thead>\n",
       "    <tr style=\"text-align: right;\">\n",
       "      <th></th>\n",
       "      <th>count</th>\n",
       "    </tr>\n",
       "    <tr>\n",
       "      <th>Questions</th>\n",
       "      <th></th>\n",
       "    </tr>\n",
       "  </thead>\n",
       "  <tbody>\n",
       "    <tr>\n",
       "      <th>How much of the syllabus was covered in the class?</th>\n",
       "      <td>29</td>\n",
       "    </tr>\n",
       "    <tr>\n",
       "      <th>How well did the teachers prepare for the classes?</th>\n",
       "      <td>29</td>\n",
       "    </tr>\n",
       "    <tr>\n",
       "      <th>What percentage of teachers use ICT tools such as LCD projectors, Multimedia, etc. while teaching?</th>\n",
       "      <td>29</td>\n",
       "    </tr>\n",
       "    <tr>\n",
       "      <th>Efforts are made by the institute/ teachers to inculcate soft skills, life skills and employability skills to make you ready for the world of work.</th>\n",
       "      <td>29</td>\n",
       "    </tr>\n",
       "    <tr>\n",
       "      <th>Teachers encourage you to participate in extracurricular activities.</th>\n",
       "      <td>29</td>\n",
       "    </tr>\n",
       "    <tr>\n",
       "      <th>The institute/ teachers use student-centric methods, such as experiential learning, participative learning and problem-solving methodologies for enhancing learning experiences.</th>\n",
       "      <td>29</td>\n",
       "    </tr>\n",
       "    <tr>\n",
       "      <th>The institution makes effort to engage students in the monitoring, review and continuous quality improvement of the teaching-learning process.</th>\n",
       "      <td>29</td>\n",
       "    </tr>\n",
       "    <tr>\n",
       "      <th>Teachers are able to identify your weaknesses and help you to overcome them.</th>\n",
       "      <td>29</td>\n",
       "    </tr>\n",
       "    <tr>\n",
       "      <th>The teachers identify your strengths and encourage you to provide the proper level of challenges.</th>\n",
       "      <td>29</td>\n",
       "    </tr>\n",
       "    <tr>\n",
       "      <th>The teachers illustrate the concepts through examples and applications.</th>\n",
       "      <td>29</td>\n",
       "    </tr>\n",
       "  </tbody>\n",
       "</table>\n",
       "</div>"
      ],
      "text/plain": [
       "                                                    count\n",
       "Questions                                                \n",
       "How much of the syllabus was covered in the class?     29\n",
       "How well did the teachers prepare for the classes?     29\n",
       "What percentage of teachers use ICT tools such ...     29\n",
       "Efforts are made by the institute/ teachers to ...     29\n",
       "Teachers encourage you to participate in extrac...     29\n",
       "The institute/ teachers use student-centric met...     29\n",
       "The institution makes effort to engage students...     29\n",
       "Teachers are able to identify your weaknesses a...     29\n",
       "The teachers identify your strengths and encour...     29\n",
       "The teachers illustrate the concepts through ex...     29"
      ]
     },
     "metadata": {},
     "output_type": "display_data"
    },
    {
     "data": {
      "text/markdown": [
       "---"
      ],
      "text/plain": [
       "<IPython.core.display.Markdown object>"
      ]
     },
     "metadata": {},
     "output_type": "display_data"
    },
    {
     "data": {
      "text/markdown": [
       "### Column: `Weightage 1`"
      ],
      "text/plain": [
       "<IPython.core.display.Markdown object>"
      ]
     },
     "metadata": {},
     "output_type": "display_data"
    },
    {
     "data": {
      "text/html": [
       "<div>\n",
       "<style scoped>\n",
       "    .dataframe tbody tr th:only-of-type {\n",
       "        vertical-align: middle;\n",
       "    }\n",
       "\n",
       "    .dataframe tbody tr th {\n",
       "        vertical-align: top;\n",
       "    }\n",
       "\n",
       "    .dataframe thead th {\n",
       "        text-align: right;\n",
       "    }\n",
       "</style>\n",
       "<table border=\"1\" class=\"dataframe\">\n",
       "  <thead>\n",
       "    <tr style=\"text-align: right;\">\n",
       "      <th></th>\n",
       "      <th>count</th>\n",
       "    </tr>\n",
       "    <tr>\n",
       "      <th>Weightage 1</th>\n",
       "      <th></th>\n",
       "    </tr>\n",
       "  </thead>\n",
       "  <tbody>\n",
       "    <tr>\n",
       "      <th>0</th>\n",
       "      <td>407</td>\n",
       "    </tr>\n",
       "    <tr>\n",
       "      <th>1</th>\n",
       "      <td>112</td>\n",
       "    </tr>\n",
       "    <tr>\n",
       "      <th>2</th>\n",
       "      <td>36</td>\n",
       "    </tr>\n",
       "    <tr>\n",
       "      <th>3</th>\n",
       "      <td>12</td>\n",
       "    </tr>\n",
       "    <tr>\n",
       "      <th>4</th>\n",
       "      <td>6</td>\n",
       "    </tr>\n",
       "    <tr>\n",
       "      <th>6</th>\n",
       "      <td>2</td>\n",
       "    </tr>\n",
       "    <tr>\n",
       "      <th>19</th>\n",
       "      <td>1</td>\n",
       "    </tr>\n",
       "    <tr>\n",
       "      <th>10</th>\n",
       "      <td>1</td>\n",
       "    </tr>\n",
       "    <tr>\n",
       "      <th>9</th>\n",
       "      <td>1</td>\n",
       "    </tr>\n",
       "    <tr>\n",
       "      <th>5</th>\n",
       "      <td>1</td>\n",
       "    </tr>\n",
       "  </tbody>\n",
       "</table>\n",
       "</div>"
      ],
      "text/plain": [
       "             count\n",
       "Weightage 1       \n",
       "0              407\n",
       "1              112\n",
       "2               36\n",
       "3               12\n",
       "4                6\n",
       "6                2\n",
       "19               1\n",
       "10               1\n",
       "9                1\n",
       "5                1"
      ]
     },
     "metadata": {},
     "output_type": "display_data"
    },
    {
     "data": {
      "text/markdown": [
       "---"
      ],
      "text/plain": [
       "<IPython.core.display.Markdown object>"
      ]
     },
     "metadata": {},
     "output_type": "display_data"
    },
    {
     "data": {
      "text/markdown": [
       "### Column: `Weightage 2`"
      ],
      "text/plain": [
       "<IPython.core.display.Markdown object>"
      ]
     },
     "metadata": {},
     "output_type": "display_data"
    },
    {
     "data": {
      "text/html": [
       "<div>\n",
       "<style scoped>\n",
       "    .dataframe tbody tr th:only-of-type {\n",
       "        vertical-align: middle;\n",
       "    }\n",
       "\n",
       "    .dataframe tbody tr th {\n",
       "        vertical-align: top;\n",
       "    }\n",
       "\n",
       "    .dataframe thead th {\n",
       "        text-align: right;\n",
       "    }\n",
       "</style>\n",
       "<table border=\"1\" class=\"dataframe\">\n",
       "  <thead>\n",
       "    <tr style=\"text-align: right;\">\n",
       "      <th></th>\n",
       "      <th>count</th>\n",
       "    </tr>\n",
       "    <tr>\n",
       "      <th>Weightage 2</th>\n",
       "      <th></th>\n",
       "    </tr>\n",
       "  </thead>\n",
       "  <tbody>\n",
       "    <tr>\n",
       "      <th>0</th>\n",
       "      <td>291</td>\n",
       "    </tr>\n",
       "    <tr>\n",
       "      <th>1</th>\n",
       "      <td>123</td>\n",
       "    </tr>\n",
       "    <tr>\n",
       "      <th>2</th>\n",
       "      <td>64</td>\n",
       "    </tr>\n",
       "    <tr>\n",
       "      <th>3</th>\n",
       "      <td>41</td>\n",
       "    </tr>\n",
       "    <tr>\n",
       "      <th>4</th>\n",
       "      <td>25</td>\n",
       "    </tr>\n",
       "    <tr>\n",
       "      <th>5</th>\n",
       "      <td>15</td>\n",
       "    </tr>\n",
       "    <tr>\n",
       "      <th>7</th>\n",
       "      <td>10</td>\n",
       "    </tr>\n",
       "    <tr>\n",
       "      <th>6</th>\n",
       "      <td>9</td>\n",
       "    </tr>\n",
       "    <tr>\n",
       "      <th>8</th>\n",
       "      <td>2</td>\n",
       "    </tr>\n",
       "  </tbody>\n",
       "</table>\n",
       "</div>"
      ],
      "text/plain": [
       "             count\n",
       "Weightage 2       \n",
       "0              291\n",
       "1              123\n",
       "2               64\n",
       "3               41\n",
       "4               25\n",
       "5               15\n",
       "7               10\n",
       "6                9\n",
       "8                2"
      ]
     },
     "metadata": {},
     "output_type": "display_data"
    },
    {
     "data": {
      "text/markdown": [
       "---"
      ],
      "text/plain": [
       "<IPython.core.display.Markdown object>"
      ]
     },
     "metadata": {},
     "output_type": "display_data"
    },
    {
     "data": {
      "text/markdown": [
       "### Column: `Weightage 3`"
      ],
      "text/plain": [
       "<IPython.core.display.Markdown object>"
      ]
     },
     "metadata": {},
     "output_type": "display_data"
    },
    {
     "data": {
      "text/html": [
       "<div>\n",
       "<style scoped>\n",
       "    .dataframe tbody tr th:only-of-type {\n",
       "        vertical-align: middle;\n",
       "    }\n",
       "\n",
       "    .dataframe tbody tr th {\n",
       "        vertical-align: top;\n",
       "    }\n",
       "\n",
       "    .dataframe thead th {\n",
       "        text-align: right;\n",
       "    }\n",
       "</style>\n",
       "<table border=\"1\" class=\"dataframe\">\n",
       "  <thead>\n",
       "    <tr style=\"text-align: right;\">\n",
       "      <th></th>\n",
       "      <th>count</th>\n",
       "    </tr>\n",
       "    <tr>\n",
       "      <th>Weightage 3</th>\n",
       "      <th></th>\n",
       "    </tr>\n",
       "  </thead>\n",
       "  <tbody>\n",
       "    <tr>\n",
       "      <th>0</th>\n",
       "      <td>164</td>\n",
       "    </tr>\n",
       "    <tr>\n",
       "      <th>1</th>\n",
       "      <td>131</td>\n",
       "    </tr>\n",
       "    <tr>\n",
       "      <th>2</th>\n",
       "      <td>79</td>\n",
       "    </tr>\n",
       "    <tr>\n",
       "      <th>3</th>\n",
       "      <td>61</td>\n",
       "    </tr>\n",
       "    <tr>\n",
       "      <th>4</th>\n",
       "      <td>41</td>\n",
       "    </tr>\n",
       "    <tr>\n",
       "      <th>5</th>\n",
       "      <td>26</td>\n",
       "    </tr>\n",
       "    <tr>\n",
       "      <th>6</th>\n",
       "      <td>17</td>\n",
       "    </tr>\n",
       "    <tr>\n",
       "      <th>7</th>\n",
       "      <td>14</td>\n",
       "    </tr>\n",
       "    <tr>\n",
       "      <th>8</th>\n",
       "      <td>13</td>\n",
       "    </tr>\n",
       "    <tr>\n",
       "      <th>9</th>\n",
       "      <td>9</td>\n",
       "    </tr>\n",
       "  </tbody>\n",
       "</table>\n",
       "</div>"
      ],
      "text/plain": [
       "             count\n",
       "Weightage 3       \n",
       "0              164\n",
       "1              131\n",
       "2               79\n",
       "3               61\n",
       "4               41\n",
       "5               26\n",
       "6               17\n",
       "7               14\n",
       "8               13\n",
       "9                9"
      ]
     },
     "metadata": {},
     "output_type": "display_data"
    },
    {
     "data": {
      "text/markdown": [
       "---"
      ],
      "text/plain": [
       "<IPython.core.display.Markdown object>"
      ]
     },
     "metadata": {},
     "output_type": "display_data"
    },
    {
     "data": {
      "text/markdown": [
       "### Column: `Weightage 4`"
      ],
      "text/plain": [
       "<IPython.core.display.Markdown object>"
      ]
     },
     "metadata": {},
     "output_type": "display_data"
    },
    {
     "data": {
      "text/html": [
       "<div>\n",
       "<style scoped>\n",
       "    .dataframe tbody tr th:only-of-type {\n",
       "        vertical-align: middle;\n",
       "    }\n",
       "\n",
       "    .dataframe tbody tr th {\n",
       "        vertical-align: top;\n",
       "    }\n",
       "\n",
       "    .dataframe thead th {\n",
       "        text-align: right;\n",
       "    }\n",
       "</style>\n",
       "<table border=\"1\" class=\"dataframe\">\n",
       "  <thead>\n",
       "    <tr style=\"text-align: right;\">\n",
       "      <th></th>\n",
       "      <th>count</th>\n",
       "    </tr>\n",
       "    <tr>\n",
       "      <th>Weightage 4</th>\n",
       "      <th></th>\n",
       "    </tr>\n",
       "  </thead>\n",
       "  <tbody>\n",
       "    <tr>\n",
       "      <th>1</th>\n",
       "      <td>108</td>\n",
       "    </tr>\n",
       "    <tr>\n",
       "      <th>0</th>\n",
       "      <td>103</td>\n",
       "    </tr>\n",
       "    <tr>\n",
       "      <th>2</th>\n",
       "      <td>72</td>\n",
       "    </tr>\n",
       "    <tr>\n",
       "      <th>3</th>\n",
       "      <td>66</td>\n",
       "    </tr>\n",
       "    <tr>\n",
       "      <th>4</th>\n",
       "      <td>37</td>\n",
       "    </tr>\n",
       "    <tr>\n",
       "      <th>5</th>\n",
       "      <td>31</td>\n",
       "    </tr>\n",
       "    <tr>\n",
       "      <th>6</th>\n",
       "      <td>22</td>\n",
       "    </tr>\n",
       "    <tr>\n",
       "      <th>7</th>\n",
       "      <td>21</td>\n",
       "    </tr>\n",
       "    <tr>\n",
       "      <th>8</th>\n",
       "      <td>18</td>\n",
       "    </tr>\n",
       "    <tr>\n",
       "      <th>9</th>\n",
       "      <td>17</td>\n",
       "    </tr>\n",
       "  </tbody>\n",
       "</table>\n",
       "</div>"
      ],
      "text/plain": [
       "             count\n",
       "Weightage 4       \n",
       "1              108\n",
       "0              103\n",
       "2               72\n",
       "3               66\n",
       "4               37\n",
       "5               31\n",
       "6               22\n",
       "7               21\n",
       "8               18\n",
       "9               17"
      ]
     },
     "metadata": {},
     "output_type": "display_data"
    },
    {
     "data": {
      "text/markdown": [
       "---"
      ],
      "text/plain": [
       "<IPython.core.display.Markdown object>"
      ]
     },
     "metadata": {},
     "output_type": "display_data"
    },
    {
     "data": {
      "text/markdown": [
       "### Column: `Weightage 5`"
      ],
      "text/plain": [
       "<IPython.core.display.Markdown object>"
      ]
     },
     "metadata": {},
     "output_type": "display_data"
    },
    {
     "data": {
      "text/html": [
       "<div>\n",
       "<style scoped>\n",
       "    .dataframe tbody tr th:only-of-type {\n",
       "        vertical-align: middle;\n",
       "    }\n",
       "\n",
       "    .dataframe tbody tr th {\n",
       "        vertical-align: top;\n",
       "    }\n",
       "\n",
       "    .dataframe thead th {\n",
       "        text-align: right;\n",
       "    }\n",
       "</style>\n",
       "<table border=\"1\" class=\"dataframe\">\n",
       "  <thead>\n",
       "    <tr style=\"text-align: right;\">\n",
       "      <th></th>\n",
       "      <th>count</th>\n",
       "    </tr>\n",
       "    <tr>\n",
       "      <th>Weightage 5</th>\n",
       "      <th></th>\n",
       "    </tr>\n",
       "  </thead>\n",
       "  <tbody>\n",
       "    <tr>\n",
       "      <th>0</th>\n",
       "      <td>122</td>\n",
       "    </tr>\n",
       "    <tr>\n",
       "      <th>1</th>\n",
       "      <td>113</td>\n",
       "    </tr>\n",
       "    <tr>\n",
       "      <th>2</th>\n",
       "      <td>51</td>\n",
       "    </tr>\n",
       "    <tr>\n",
       "      <th>3</th>\n",
       "      <td>50</td>\n",
       "    </tr>\n",
       "    <tr>\n",
       "      <th>4</th>\n",
       "      <td>42</td>\n",
       "    </tr>\n",
       "    <tr>\n",
       "      <th>6</th>\n",
       "      <td>30</td>\n",
       "    </tr>\n",
       "    <tr>\n",
       "      <th>5</th>\n",
       "      <td>29</td>\n",
       "    </tr>\n",
       "    <tr>\n",
       "      <th>8</th>\n",
       "      <td>16</td>\n",
       "    </tr>\n",
       "    <tr>\n",
       "      <th>13</th>\n",
       "      <td>16</td>\n",
       "    </tr>\n",
       "    <tr>\n",
       "      <th>10</th>\n",
       "      <td>15</td>\n",
       "    </tr>\n",
       "  </tbody>\n",
       "</table>\n",
       "</div>"
      ],
      "text/plain": [
       "             count\n",
       "Weightage 5       \n",
       "0              122\n",
       "1              113\n",
       "2               51\n",
       "3               50\n",
       "4               42\n",
       "6               30\n",
       "5               29\n",
       "8               16\n",
       "13              16\n",
       "10              15"
      ]
     },
     "metadata": {},
     "output_type": "display_data"
    },
    {
     "data": {
      "text/markdown": [
       "---"
      ],
      "text/plain": [
       "<IPython.core.display.Markdown object>"
      ]
     },
     "metadata": {},
     "output_type": "display_data"
    },
    {
     "data": {
      "text/markdown": [
       "### Column: `Average/ Percentage`"
      ],
      "text/plain": [
       "<IPython.core.display.Markdown object>"
      ]
     },
     "metadata": {},
     "output_type": "display_data"
    },
    {
     "data": {
      "text/html": [
       "<div>\n",
       "<style scoped>\n",
       "    .dataframe tbody tr th:only-of-type {\n",
       "        vertical-align: middle;\n",
       "    }\n",
       "\n",
       "    .dataframe tbody tr th {\n",
       "        vertical-align: top;\n",
       "    }\n",
       "\n",
       "    .dataframe thead th {\n",
       "        text-align: right;\n",
       "    }\n",
       "</style>\n",
       "<table border=\"1\" class=\"dataframe\">\n",
       "  <thead>\n",
       "    <tr style=\"text-align: right;\">\n",
       "      <th></th>\n",
       "      <th>count</th>\n",
       "    </tr>\n",
       "    <tr>\n",
       "      <th>Average/ Percentage</th>\n",
       "      <th></th>\n",
       "    </tr>\n",
       "  </thead>\n",
       "  <tbody>\n",
       "    <tr>\n",
       "      <th>4.00 / 80.00</th>\n",
       "      <td>59</td>\n",
       "    </tr>\n",
       "    <tr>\n",
       "      <th>3.00 / 60.00</th>\n",
       "      <td>38</td>\n",
       "    </tr>\n",
       "    <tr>\n",
       "      <th>5.00 / 100.00</th>\n",
       "      <td>34</td>\n",
       "    </tr>\n",
       "    <tr>\n",
       "      <th>4.50 / 90.00</th>\n",
       "      <td>22</td>\n",
       "    </tr>\n",
       "    <tr>\n",
       "      <th>3.50 / 70.00</th>\n",
       "      <td>21</td>\n",
       "    </tr>\n",
       "    <tr>\n",
       "      <th>3.67 / 73.33</th>\n",
       "      <td>21</td>\n",
       "    </tr>\n",
       "    <tr>\n",
       "      <th>3.71 / 74.29</th>\n",
       "      <td>14</td>\n",
       "    </tr>\n",
       "    <tr>\n",
       "      <th>3.33 / 66.67</th>\n",
       "      <td>11</td>\n",
       "    </tr>\n",
       "    <tr>\n",
       "      <th>4.43 / 88.57</th>\n",
       "      <td>11</td>\n",
       "    </tr>\n",
       "    <tr>\n",
       "      <th>4.25 / 85.00</th>\n",
       "      <td>9</td>\n",
       "    </tr>\n",
       "  </tbody>\n",
       "</table>\n",
       "</div>"
      ],
      "text/plain": [
       "                     count\n",
       "Average/ Percentage       \n",
       "4.00 / 80.00            59\n",
       "3.00 / 60.00            38\n",
       "5.00 / 100.00           34\n",
       "4.50 / 90.00            22\n",
       "3.50 / 70.00            21\n",
       "3.67 / 73.33            21\n",
       "3.71 / 74.29            14\n",
       "3.33 / 66.67            11\n",
       "4.43 / 88.57            11\n",
       "4.25 / 85.00             9"
      ]
     },
     "metadata": {},
     "output_type": "display_data"
    },
    {
     "data": {
      "text/markdown": [
       "---"
      ],
      "text/plain": [
       "<IPython.core.display.Markdown object>"
      ]
     },
     "metadata": {},
     "output_type": "display_data"
    },
    {
     "data": {
      "text/markdown": [
       "### Column: `Course Name `"
      ],
      "text/plain": [
       "<IPython.core.display.Markdown object>"
      ]
     },
     "metadata": {},
     "output_type": "display_data"
    },
    {
     "data": {
      "text/html": [
       "<div>\n",
       "<style scoped>\n",
       "    .dataframe tbody tr th:only-of-type {\n",
       "        vertical-align: middle;\n",
       "    }\n",
       "\n",
       "    .dataframe tbody tr th {\n",
       "        vertical-align: top;\n",
       "    }\n",
       "\n",
       "    .dataframe thead th {\n",
       "        text-align: right;\n",
       "    }\n",
       "</style>\n",
       "<table border=\"1\" class=\"dataframe\">\n",
       "  <thead>\n",
       "    <tr style=\"text-align: right;\">\n",
       "      <th></th>\n",
       "      <th>count</th>\n",
       "    </tr>\n",
       "    <tr>\n",
       "      <th>Course Name</th>\n",
       "      <th></th>\n",
       "    </tr>\n",
       "  </thead>\n",
       "  <tbody>\n",
       "    <tr>\n",
       "      <th>FY B.VOC FOOD TECHNOLOGY</th>\n",
       "      <td>20</td>\n",
       "    </tr>\n",
       "    <tr>\n",
       "      <th>MSC DATA SCIENCE - 3</th>\n",
       "      <td>20</td>\n",
       "    </tr>\n",
       "    <tr>\n",
       "      <th>TYBMS</th>\n",
       "      <td>20</td>\n",
       "    </tr>\n",
       "    <tr>\n",
       "      <th>TYBCOM</th>\n",
       "      <td>20</td>\n",
       "    </tr>\n",
       "    <tr>\n",
       "      <th>TYBA</th>\n",
       "      <td>20</td>\n",
       "    </tr>\n",
       "    <tr>\n",
       "      <th>SY COMPUTER SCIENCE</th>\n",
       "      <td>20</td>\n",
       "    </tr>\n",
       "    <tr>\n",
       "      <th>SYBSC</th>\n",
       "      <td>20</td>\n",
       "    </tr>\n",
       "    <tr>\n",
       "      <th>SYBMS</th>\n",
       "      <td>20</td>\n",
       "    </tr>\n",
       "    <tr>\n",
       "      <th>SYBCOM</th>\n",
       "      <td>20</td>\n",
       "    </tr>\n",
       "    <tr>\n",
       "      <th>S.Y.B.A.F</th>\n",
       "      <td>20</td>\n",
       "    </tr>\n",
       "  </tbody>\n",
       "</table>\n",
       "</div>"
      ],
      "text/plain": [
       "                          count\n",
       "Course Name                    \n",
       "FY B.VOC FOOD TECHNOLOGY     20\n",
       "MSC DATA SCIENCE - 3         20\n",
       "TYBMS                        20\n",
       "TYBCOM                       20\n",
       "TYBA                         20\n",
       "SY COMPUTER SCIENCE          20\n",
       "SYBSC                        20\n",
       "SYBMS                        20\n",
       "SYBCOM                       20\n",
       "S.Y.B.A.F                    20"
      ]
     },
     "metadata": {},
     "output_type": "display_data"
    },
    {
     "data": {
      "text/markdown": [
       "---"
      ],
      "text/plain": [
       "<IPython.core.display.Markdown object>"
      ]
     },
     "metadata": {},
     "output_type": "display_data"
    },
    {
     "data": {
      "text/markdown": [
       "### Column: `Basic Course`"
      ],
      "text/plain": [
       "<IPython.core.display.Markdown object>"
      ]
     },
     "metadata": {},
     "output_type": "display_data"
    },
    {
     "data": {
      "text/html": [
       "<div>\n",
       "<style scoped>\n",
       "    .dataframe tbody tr th:only-of-type {\n",
       "        vertical-align: middle;\n",
       "    }\n",
       "\n",
       "    .dataframe tbody tr th {\n",
       "        vertical-align: top;\n",
       "    }\n",
       "\n",
       "    .dataframe thead th {\n",
       "        text-align: right;\n",
       "    }\n",
       "</style>\n",
       "<table border=\"1\" class=\"dataframe\">\n",
       "  <thead>\n",
       "    <tr style=\"text-align: right;\">\n",
       "      <th></th>\n",
       "      <th>count</th>\n",
       "    </tr>\n",
       "    <tr>\n",
       "      <th>Basic Course</th>\n",
       "      <th></th>\n",
       "    </tr>\n",
       "  </thead>\n",
       "  <tbody>\n",
       "    <tr>\n",
       "      <th>BACHELOR OF MANAGEMENT STUDIES</th>\n",
       "      <td>60</td>\n",
       "    </tr>\n",
       "    <tr>\n",
       "      <th>BACHELOR OF SCIENCE</th>\n",
       "      <td>60</td>\n",
       "    </tr>\n",
       "    <tr>\n",
       "      <th>BACHELOR OF ARTS</th>\n",
       "      <td>40</td>\n",
       "    </tr>\n",
       "    <tr>\n",
       "      <th>BACHELOR OF COMMERCE (ACCOUNTING AND FINANCE)</th>\n",
       "      <td>40</td>\n",
       "    </tr>\n",
       "    <tr>\n",
       "      <th>MA PSYCHOLOGY</th>\n",
       "      <td>40</td>\n",
       "    </tr>\n",
       "    <tr>\n",
       "      <th>MSC COMPUTER SCIENCE</th>\n",
       "      <td>40</td>\n",
       "    </tr>\n",
       "    <tr>\n",
       "      <th>MSC ANALYTICAL CHEMISTRY</th>\n",
       "      <td>40</td>\n",
       "    </tr>\n",
       "    <tr>\n",
       "      <th>MSC DATA SCIENCE</th>\n",
       "      <td>40</td>\n",
       "    </tr>\n",
       "    <tr>\n",
       "      <th>MSC INFORMATION TECHNOLOGY</th>\n",
       "      <td>40</td>\n",
       "    </tr>\n",
       "    <tr>\n",
       "      <th>MSC MICROBIOLOGY</th>\n",
       "      <td>40</td>\n",
       "    </tr>\n",
       "  </tbody>\n",
       "</table>\n",
       "</div>"
      ],
      "text/plain": [
       "                                               count\n",
       "Basic Course                                        \n",
       "BACHELOR OF MANAGEMENT STUDIES                    60\n",
       "BACHELOR OF SCIENCE                               60\n",
       "BACHELOR OF ARTS                                  40\n",
       "BACHELOR OF COMMERCE (ACCOUNTING AND FINANCE)     40\n",
       "MA PSYCHOLOGY                                     40\n",
       "MSC COMPUTER SCIENCE                              40\n",
       "MSC ANALYTICAL CHEMISTRY                          40\n",
       "MSC DATA SCIENCE                                  40\n",
       "MSC INFORMATION TECHNOLOGY                        40\n",
       "MSC MICROBIOLOGY                                  40"
      ]
     },
     "metadata": {},
     "output_type": "display_data"
    },
    {
     "data": {
      "text/markdown": [
       "---"
      ],
      "text/plain": [
       "<IPython.core.display.Markdown object>"
      ]
     },
     "metadata": {},
     "output_type": "display_data"
    }
   ],
   "source": [
    "display(Markdown(\"## **VALUE COUNTS PER COLUMN**\"))\n",
    "\n",
    "for col in data_2.columns:\n",
    "    display(Markdown(f\"### Column: `{col}`\"))\n",
    "    display(data_2[col].value_counts().to_frame().head(10))  # top 10 values\n",
    "    display(Markdown(\"---\"))\n"
   ]
  },
  {
   "cell_type": "code",
   "execution_count": 11,
   "id": "df807c82-301c-4017-806e-132783223313",
   "metadata": {},
   "outputs": [],
   "source": [
    "import nltk"
   ]
  },
  {
   "cell_type": "code",
   "execution_count": 12,
   "id": "eacb7d01-7947-42e4-b39c-f13bf5336f75",
   "metadata": {
    "scrolled": true
   },
   "outputs": [
    {
     "name": "stdout",
     "output_type": "stream",
     "text": [
      "showing info https://raw.githubusercontent.com/nltk/nltk_data/gh-pages/index.xml\n"
     ]
    },
    {
     "data": {
      "text/plain": [
       "True"
      ]
     },
     "execution_count": 12,
     "metadata": {},
     "output_type": "execute_result"
    }
   ],
   "source": [
    "# nltk.download()"
   ]
  },
  {
   "cell_type": "code",
   "execution_count": 13,
   "id": "587d92e9-27a5-4604-88dd-afe904869151",
   "metadata": {},
   "outputs": [],
   "source": [
    "# from nltk.tokenize import sent_tokenize,word_tokenize"
   ]
  },
  {
   "cell_type": "code",
   "execution_count": null,
   "id": "55e40ae7-423e-4a2b-8d4e-408e3aace138",
   "metadata": {},
   "outputs": [],
   "source": []
  }
 ],
 "metadata": {
  "kernelspec": {
   "display_name": "Python 3",
   "language": "python",
   "name": "python3"
  },
  "language_info": {
   "codemirror_mode": {
    "name": "ipython",
    "version": 3
   },
   "file_extension": ".py",
   "mimetype": "text/x-python",
   "name": "python",
   "nbconvert_exporter": "python",
   "pygments_lexer": "ipython3",
   "version": "3.8.5"
  }
 },
 "nbformat": 4,
 "nbformat_minor": 5
}
